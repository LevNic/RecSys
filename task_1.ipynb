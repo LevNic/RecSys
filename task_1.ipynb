{
 "cells": [
  {
   "cell_type": "markdown",
   "metadata": {},
   "source": [
    "1) Сравните метрики hit_rate@k, precision@k. Какую матрику использовать предпочтительно и почему. Привидите пример 2-3 задач (опишите, что является клиентом, что товаром), в которой более уместно использовать метрику hit_rate?"
   ]
  },
  {
   "cell_type": "markdown",
   "metadata": {},
   "source": [
    "Ответ:  \n",
    "hit_rate@k лучше всего использовать, когда важно подобрать покупателю хотя бы один товар из рекомендованных. Например дорогие товары или вакансия для работы соискателю.  \n",
    "precision@k лучше использовать, когда важно, чтобы покупатель купил как можно больше товаров из рекомендованных  или просмотрел как можно больше сообщений из предложенных в ленте."
   ]
  },
  {
   "cell_type": "markdown",
   "metadata": {},
   "source": [
    "2)В метрике NDCG@k мы используем логарифм в знаменателе. Как Вы думаете, почему именно логарифм? Какую функцию можно использовать вместо логарифма? Привидите пример метрик/подходов к предобработке данных/функций ошибок в ML, где также в знаменателе присутствует логарифм."
   ]
  },
  {
   "cell_type": "markdown",
   "metadata": {},
   "source": [
    "Ответ:  \n",
    "Логарифм уменьшает вес элементов с большим порядковым номером. Вместо логарифма можно использовать квадратный корень."
   ]
  },
  {
   "cell_type": "markdown",
   "metadata": {},
   "source": [
    "3)Какие еще матрики (Вы можете вспомнить уже пройденные Вами или посмотреть в интернете) могут использоваться для рекомендательных систем (приведите примеры метрики и чем являются интеракции, чтобы она могла быть использована)."
   ]
  },
  {
   "cell_type": "markdown",
   "metadata": {},
   "source": [
    "Ответ:  \n",
    "Cumulative gain at K (CG@K)  \n",
    "Discounted cumulative gain at K (DCG@K)  \n",
    "Expected reciprocal rank (ERR)"
   ]
  },
  {
   "cell_type": "markdown",
   "metadata": {},
   "source": [
    "4)boughted = [1, 3, 5, 7, 9, 11]  \n",
    "recommended = [2, 5, 7, 4, 11, 9, 8, 10, 12, 3]  \n",
    "Посчитайте на этих данных pr@8, rec@8, AP@8, NDCG@8, RR@8, ERR@8"
   ]
  },
  {
   "cell_type": "code",
   "execution_count": 82,
   "metadata": {},
   "outputs": [],
   "source": [
    "recommended_list = [2, 5, 7, 4, 11, 9, 8, 10, 12, 3]\n",
    "bought_list = [1, 3, 5, 7, 9, 11]\n",
    "k = 8"
   ]
  },
  {
   "cell_type": "code",
   "execution_count": 86,
   "metadata": {},
   "outputs": [
    {
     "data": {
      "text/plain": [
       "0.5"
      ]
     },
     "execution_count": 86,
     "metadata": {},
     "output_type": "execute_result"
    }
   ],
   "source": [
    "PR8 = (0 + 1 + 1 + 0 + 1 + 1 + 0 + 0) / 8\n",
    "PR8"
   ]
  },
  {
   "cell_type": "code",
   "execution_count": null,
   "metadata": {},
   "outputs": [],
   "source": [
    "import numpy as np\n",
    "\n",
    "def precision_at_k(recommended_list, bought_list, k):\n",
    "    \n",
    "    bought_list = np.array(bought_list)\n",
    "    recommended_list = np.array(recommended_list)\n",
    "    \n",
    "    bought_list = bought_list  # Тут нет [:k] !!\n",
    "    recommended_list = recommended_list[:k]\n",
    "    print('RL', recommended_list)\n",
    "    \n",
    "    flags = np.isin(bought_list, recommended_list)\n",
    "    print(flags)\n",
    "    \n",
    "    precision = flags.sum() / len(recommended_list)\n",
    "    # print(precision)\n",
    "    \n",
    "    return precision"
   ]
  },
  {
   "cell_type": "code",
   "execution_count": 87,
   "metadata": {},
   "outputs": [
    {
     "name": "stdout",
     "output_type": "stream",
     "text": [
      "RL [ 2  5  7  4 11  9  8 10]\n",
      "[False False  True  True  True  True]\n"
     ]
    },
    {
     "data": {
      "text/plain": [
       "0.5"
      ]
     },
     "execution_count": 87,
     "metadata": {},
     "output_type": "execute_result"
    }
   ],
   "source": [
    "precision_at_k(recommended_list, bought_list, k)"
   ]
  },
  {
   "cell_type": "code",
   "execution_count": 96,
   "metadata": {},
   "outputs": [
    {
     "data": {
      "text/plain": [
       "0.6666666666666666"
      ]
     },
     "execution_count": 96,
     "metadata": {},
     "output_type": "execute_result"
    }
   ],
   "source": [
    "REC8 = (0 + 0 + 1 + 1 + 1 + 1) / 6\n",
    "REC8"
   ]
  },
  {
   "cell_type": "code",
   "execution_count": 97,
   "metadata": {},
   "outputs": [],
   "source": [
    "def recall_at_k(recommended_list, bought_list, k):\n",
    "    bought_list = np.array(bought_list)\n",
    "    recommended_list = np.array(recommended_list)[:k]\n",
    "    \n",
    "    flags = np.isin(bought_list, recommended_list)\n",
    "    \n",
    "    recall = flags.sum() / len(bought_list)\n",
    "    \n",
    "    return recall"
   ]
  },
  {
   "cell_type": "code",
   "execution_count": 98,
   "metadata": {},
   "outputs": [
    {
     "data": {
      "text/plain": [
       "0.6666666666666666"
      ]
     },
     "execution_count": 98,
     "metadata": {},
     "output_type": "execute_result"
    }
   ],
   "source": [
    "recall_at_k(recommended_list, bought_list, k)"
   ]
  },
  {
   "cell_type": "code",
   "execution_count": 84,
   "metadata": {},
   "outputs": [
    {
     "data": {
      "text/plain": [
       "0.48666666666666664"
      ]
     },
     "execution_count": 84,
     "metadata": {},
     "output_type": "execute_result"
    }
   ],
   "source": [
    "AP8 = (0 + 1/2 + 2/3 + 0 + 3/5 + 4/6) / 5\n",
    "AP8"
   ]
  },
  {
   "cell_type": "code",
   "execution_count": 81,
   "metadata": {},
   "outputs": [],
   "source": [
    "def ap_k(recommended_list, bought_list, k):\n",
    "    \n",
    "    bought_list = np.array(bought_list)\n",
    "    recommended_list = np.array(recommended_list)\n",
    "    \n",
    "    flags = np.isin(recommended_list, bought_list)\n",
    "    print(flags)\n",
    "    print (sum(flags))\n",
    "    \n",
    "    if sum(flags) == 0:\n",
    "        return 0\n",
    "    \n",
    "    sum_ = 0\n",
    "    print('BL', bought_list)\n",
    "    print('RL', recommended_list)\n",
    "    for i in range(0, k-1): # Заменил у исходной формулы range(1, k)\n",
    "        if flags[i] == True:\n",
    "            print('I', i)\n",
    "            p_k = precision_at_k(recommended_list, bought_list, k=i+1) # Заменил у исходной фщрмулы k=i\n",
    "            print('PK', p_k)\n",
    "            sum_ += p_k        \n",
    "    result = sum_ / sum(flags)\n",
    "    \n",
    "    return result"
   ]
  },
  {
   "cell_type": "code",
   "execution_count": 83,
   "metadata": {},
   "outputs": [
    {
     "name": "stdout",
     "output_type": "stream",
     "text": [
      "[False  True  True False  True  True False False False  True]\n",
      "5\n",
      "BL [ 1  3  5  7  9 11]\n",
      "RL [ 2  5  7  4 11  9  8 10 12  3]\n",
      "I 1\n",
      "RL [2 5]\n",
      "[False False  True False False False]\n",
      "PK 0.5\n",
      "I 2\n",
      "RL [2 5 7]\n",
      "[False False  True  True False False]\n",
      "PK 0.6666666666666666\n",
      "I 4\n",
      "RL [ 2  5  7  4 11]\n",
      "[False False  True  True False  True]\n",
      "PK 0.6\n",
      "I 5\n",
      "RL [ 2  5  7  4 11  9]\n",
      "[False False  True  True  True  True]\n",
      "PK 0.6666666666666666\n"
     ]
    },
    {
     "data": {
      "text/plain": [
       "0.48666666666666664"
      ]
     },
     "execution_count": 83,
     "metadata": {},
     "output_type": "execute_result"
    }
   ],
   "source": [
    "ap_k(recommended_list, bought_list, k)"
   ]
  },
  {
   "cell_type": "code",
   "execution_count": 102,
   "metadata": {},
   "outputs": [
    {
     "data": {
      "text/plain": [
       "0.5653142737255068"
      ]
     },
     "execution_count": 102,
     "metadata": {},
     "output_type": "execute_result"
    }
   ],
   "source": [
    "DCG8 = (0/1 + 1/np.log(2) + 1/np.log(3) + 0/np.log(4) + 1/np.log(5) + 1/np.log(6) + 0/np.log(7) + 0/np.log(8)) / 8\n",
    "IDCG8 = (1/1 + 1/np.log(2) + 1/np.log(3) + 1/np.log(4) + 1/np.log(5) + 1/np.log(6) + 1/np.log(7) + 1/np.log(8)) / 8\n",
    "NDCG8 = DCG8/IDCG8\n",
    "NDCG8"
   ]
  },
  {
   "cell_type": "code",
   "execution_count": 127,
   "metadata": {},
   "outputs": [
    {
     "data": {
      "text/plain": [
       "0.3333333333333333"
      ]
     },
     "execution_count": 127,
     "metadata": {},
     "output_type": "execute_result"
    }
   ],
   "source": [
    "RR8 = 2 / 6\n",
    "RR8"
   ]
  },
  {
   "cell_type": "code",
   "execution_count": 128,
   "metadata": {},
   "outputs": [],
   "source": [
    "# Функцию переделал\n",
    "def reciprocal_rank(recommended_list, bought_list, k):\n",
    "    for item_rec in recommended_list[:k]:\n",
    "        for i, item_bought in enumerate(bought_list):\n",
    "            if item_rec == item_bought:\n",
    "                return i / len(bought_list)"
   ]
  },
  {
   "cell_type": "code",
   "execution_count": 129,
   "metadata": {},
   "outputs": [
    {
     "data": {
      "text/plain": [
       "0.3333333333333333"
      ]
     },
     "execution_count": 129,
     "metadata": {},
     "output_type": "execute_result"
    }
   ],
   "source": [
    "reciprocal_rank(recommended_list, bought_list, 8)"
   ]
  },
  {
   "cell_type": "code",
   "execution_count": null,
   "metadata": {},
   "outputs": [],
   "source": []
  }
 ],
 "metadata": {
  "kernelspec": {
   "display_name": "Python 3",
   "language": "python",
   "name": "python3"
  },
  "language_info": {
   "codemirror_mode": {
    "name": "ipython",
    "version": 3
   },
   "file_extension": ".py",
   "mimetype": "text/x-python",
   "name": "python",
   "nbconvert_exporter": "python",
   "pygments_lexer": "ipython3",
   "version": "3.7.4"
  }
 },
 "nbformat": 4,
 "nbformat_minor": 2
}
